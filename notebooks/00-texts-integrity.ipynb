{
 "cells": [
  {
   "cell_type": "markdown",
   "metadata": {},
   "source": [
    "# Texts integrity\n",
    "\n",
    "The goal of this notebook is to get familiar with the data and check the basic properties of the dataset."
   ]
  },
  {
   "cell_type": "code",
   "execution_count": 1,
   "metadata": {
    "ExecuteTime": {
     "end_time": "2020-10-06T00:08:32.188574Z",
     "start_time": "2020-10-06T00:08:32.177785Z"
    }
   },
   "outputs": [],
   "source": [
    "from thc.utils.env import check_repository_path\n",
    "\n",
    "\n",
    "REPOSITORY_DIR = check_repository_path()\n",
    "RAW_DATA_DIR = REPOSITORY_DIR.joinpath(\"data\", \"raw\")"
   ]
  },
  {
   "cell_type": "markdown",
   "metadata": {},
   "source": [
    "## Imbalance\n",
    "\n",
    "First, let's count the number of occurrences of individual classes across training file. Raw data directory should have the following structure:"
   ]
  },
  {
   "cell_type": "code",
   "execution_count": 2,
   "metadata": {
    "ExecuteTime": {
     "end_time": "2020-10-06T00:08:32.321335Z",
     "start_time": "2020-10-06T00:08:32.191603Z"
    }
   },
   "outputs": [
    {
     "name": "stdout",
     "output_type": "stream",
     "text": [
      "\u001b[01;34m../data/raw/\u001b[00m\r\n",
      "├── \u001b[01;32mtest_set_only_tags.txt\u001b[00m\r\n",
      "├── \u001b[01;32mtest_set_only_text.txt\u001b[00m\r\n",
      "├── \u001b[01;32mtraining_set_clean_only_tags.txt\u001b[00m\r\n",
      "└── \u001b[01;32mtraining_set_clean_only_text.txt\u001b[00m\r\n",
      "\r\n",
      "0 directories, 4 files\r\n"
     ]
    }
   ],
   "source": [
    "!tree ../data/raw/"
   ]
  },
  {
   "cell_type": "code",
   "execution_count": 3,
   "metadata": {
    "ExecuteTime": {
     "end_time": "2020-10-06T00:08:33.317102Z",
     "start_time": "2020-10-06T00:08:32.323645Z"
    }
   },
   "outputs": [
    {
     "data": {
      "image/png": "[encoded data removed]",
      "text/plain": [
       "<Figure size 864x576 with 1 Axes>"
      ]
     },
     "metadata": {
      "needs_background": "light"
     },
     "output_type": "display_data"
    }
   ],
   "source": [
    "import codecs\n",
    "\n",
    "import matplotlib.pyplot as plt\n",
    "import seaborn as sns\n",
    "\n",
    "\n",
    "sns.set_palette(\"coolwarm\")\n",
    "\n",
    "\n",
    "TRAIN_TAGS_FILE = REPOSITORY_DIR.joinpath(\"data\", \"raw\", \"training_set_clean_only_tags.txt\")\n",
    "with codecs.open(str(TRAIN_TAGS_FILE), mode=\"r\") as file:\n",
    "    train_tags = [int(tag) for tag in file]\n",
    "\n",
    "fig, ax = plt.subplots(figsize=(12, 8))\n",
    "sns.countplot(x=train_tags, ax=ax)\n",
    "ax.set_title(\"Counts of harmful speech classes\")\n",
    "plt.show()"
   ]
  },
  {
   "cell_type": "markdown",
   "metadata": {},
   "source": [
    "It is easy to notice that we are dealing with a very imbalanced dataset, hence a careful approach to the data division strategy into training and validation sets, as well as the modeling itself, will be very important."
   ]
  },
  {
   "cell_type": "markdown",
   "metadata": {},
   "source": [
    "## Text length\n",
    "\n",
    "Let's check how long on average are the texts that will constitute the inputs to our model."
   ]
  },
  {
   "cell_type": "code",
   "execution_count": 4,
   "metadata": {
    "ExecuteTime": {
     "end_time": "2020-10-06T00:08:33.815686Z",
     "start_time": "2020-10-06T00:08:33.319538Z"
    }
   },
   "outputs": [
    {
     "data": {
      "image/png": "[encoded data removed]",
      "text/plain": [
       "<Figure size 864x576 with 1 Axes>"
      ]
     },
     "metadata": {
      "needs_background": "light"
     },
     "output_type": "display_data"
    }
   ],
   "source": [
    "TRAIN_TEXT_FILE = REPOSITORY_DIR.joinpath(\"data\", \"raw\", \"training_set_clean_only_text.txt\")\n",
    "with codecs.open(str(TRAIN_TEXT_FILE), mode=\"r\", encoding=\"utf-8\") as file:\n",
    "    train_text = file.read().splitlines()\n",
    "\n",
    "train_text_length = [len(text) for text in train_text]\n",
    "\n",
    "fig, ax = plt.subplots(figsize=(12, 8))\n",
    "sns.histplot(x=train_text_length, hue=train_tags, ax=ax)\n",
    "ax.set_title(\"Distribution of texts length in cross-section at harmful speech type\")\n",
    "plt.show()"
   ]
  },
  {
   "cell_type": "markdown",
   "metadata": {},
   "source": [
    "As shown in the chart above, it is not possible to unequivocally assess whether the length of the entry correlates with the type of statement."
   ]
  }
 ],
 "metadata": {
  "kernelspec": {
   "display_name": "thc-venv",
   "language": "python",
   "name": "thc-venv"
  },
  "language_info": {
   "codemirror_mode": {
    "name": "ipython",
    "version": 3
   },
   "file_extension": ".py",
   "mimetype": "text/x-python",
   "name": "python",
   "nbconvert_exporter": "python",
   "pygments_lexer": "ipython3",
   "version": "3.7.7"
  },
  "toc": {
   "base_numbering": 1,
   "nav_menu": {},
   "number_sections": true,
   "sideBar": true,
   "skip_h1_title": false,
   "title_cell": "Table of Contents",
   "title_sidebar": "Contents",
   "toc_cell": false,
   "toc_position": {},
   "toc_section_display": true,
   "toc_window_display": false
  },
  "varInspector": {
   "cols": {
    "lenName": 16,
    "lenType": 16,
    "lenVar": 40
   },
   "kernels_config": {
    "python": {
     "delete_cmd_postfix": "",
     "delete_cmd_prefix": "del ",
     "library": "var_list.py",
     "varRefreshCmd": "print(var_dic_list())"
    },
    "r": {
     "delete_cmd_postfix": ") ",
     "delete_cmd_prefix": "rm(",
     "library": "var_list.r",
     "varRefreshCmd": "cat(var_dic_list()) "
    }
   },
   "types_to_exclude": [
    "module",
    "function",
    "builtin_function_or_method",
    "instance",
    "_Feature"
   ],
   "window_display": false
  }
 },
 "nbformat": 4,
 "nbformat_minor": 2
}
